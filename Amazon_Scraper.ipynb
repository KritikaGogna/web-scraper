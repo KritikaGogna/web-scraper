{
  "cells": [
    {
      "cell_type": "code",
      "execution_count": null,
      "metadata": {
        "colab": {
          "background_save": true,
          "base_uri": "https://localhost:8080/"
        },
        "id": "b_WA2kpx-F9R",
        "outputId": "bc8d30ca-e218-4d78-b81d-6f5ce60a48d3"
      },
      "outputs": [
        {
          "name": "stdout",
          "output_type": "stream",
          "text": [
            "a\n",
            "                                         Product Name   Price       Rating  \\\n",
            "0   OPPO A74 5G (Fantastic Purple,6GB RAM,128GB St...  15,490  Add to List   \n",
            "1   Redmi 9 Activ (Carbon Black, 4GB RAM, 64GB Sto...   8,499          4.2   \n",
            "2   Redmi A1 (Light Blue, 2GB RAM, 32GB Storage) |...   5,999          4.0   \n",
            "3   Redmi 10 Prime (Phantom Black 6GB RAM 128GB RO...  12,999          4.1   \n",
            "4   Samsung Galaxy M53 5G (Deep Ocean Blue, 6GB, 1...  24,999          3.9   \n",
            "5   OnePlus Nord CE 2 Lite 5G (Blue Tide, 6GB RAM,...  18,999          4.3   \n",
            "6   OPPO A31 (Mystery Black, 6GB RAM, 128GB Storag...  11,990          4.2   \n",
            "7   Redmi 11 Prime 5G (Chrome Silver, 4GB RAM 64GB...  12,999          3.9   \n",
            "8   OnePlus Nord CE 2 Lite 5G (Black Dusk, 6GB RAM...  18,999  Add to List   \n",
            "9   Redmi 10A (Slate Grey, 4GB RAM, 64GB Storage) ...   8,299          3.9   \n",
            "10  Samsung Galaxy S20 FE 5G (Cloud Navy, 8GB RAM,...  32,990          4.2   \n",
            "11  Redmi 10A Sport (Slate Grey, 6GB RAM, 128GB St...   9,999          3.7   \n",
            "12  Tecno Spark 9 (Infinity Black, 4GB RAM,64GB St...   7,999          3.8   \n",
            "13  OnePlus Nord 2T 5G (Jade Fog, 12GB RAM, 256GB ...  33,999          4.3   \n",
            "14  Samsung Galaxy M13 (Aqua Green, 6GB, 128GB Sto...  13,999          4.0   \n",
            "15  Redmi 10 Power (Sporty Orange, 8GB RAM, 128GB ...  12,499          4.1   \n",
            "\n",
            "   People Rated                                      Product Image  \\\n",
            "0        32,403  https://m.media-amazon.com/images/I/71geVdy6-O...   \n",
            "1       311,708  https://m.media-amazon.com/images/I/911TJ1CDbL...   \n",
            "2         6,857  https://m.media-amazon.com/images/I/81UT07JsBq...   \n",
            "3        62,950  https://m.media-amazon.com/images/I/817clKAKcq...   \n",
            "4         8,489  https://m.media-amazon.com/images/I/81yL2dXKTH...   \n",
            "5       104,818  https://m.media-amazon.com/images/I/71AvQd3Vzq...   \n",
            "6        58,263  https://m.media-amazon.com/images/I/71KCwNV6Mu...   \n",
            "7         1,839  https://m.media-amazon.com/images/I/817vyrOUqm...   \n",
            "8       104,818  https://m.media-amazon.com/images/I/71V--WZVUI...   \n",
            "9        11,919  https://m.media-amazon.com/images/I/71kVEmAMyE...   \n",
            "10       27,146  https://m.media-amazon.com/images/I/81vDZyJQ-4...   \n",
            "11          801  https://m.media-amazon.com/images/I/71t7mcs1Vo...   \n",
            "12        2,892  https://m.media-amazon.com/images/I/9185sX9EGF...   \n",
            "13       16,311  https://m.media-amazon.com/images/I/61ahn9N38z...   \n",
            "14       17,578  https://m.media-amazon.com/images/I/81-fFXQdPT...   \n",
            "15          493  https://m.media-amazon.com/images/I/81OZGH4fZi...   \n",
            "\n",
            "                                         Product link  \n",
            "0   https://www.amazon.in/https://www.amazon.in/ap...  \n",
            "1   https://www.amazon.in//Redmi-Activ-Carbon-Blac...  \n",
            "2   https://www.amazon.in//Redmi-Storage-Segment-5...  \n",
            "3   https://www.amazon.in//Redmi-10-Prime-extendab...  \n",
            "4   https://www.amazon.in//Samsung-Storage-sAmoled...  \n",
            "5   https://www.amazon.in//OnePlus-Nord-Lite-128GB...  \n",
            "6   https://www.amazon.in//Oppo-Mystery-Storage-Ad...  \n",
            "7   https://www.amazon.in//Redmi-Chrome-Silver-Dim...  \n",
            "8   https://www.amazon.in/https://www.amazon.in/ap...  \n",
            "9   https://www.amazon.in//Redmi-Storage-Battery-F...  \n",
            "10  https://www.amazon.in//Samsung-Galaxy-Cloud-12...  \n",
            "11  https://www.amazon.in//Redmi-Storage-Battery-F...  \n",
            "12  https://www.amazon.in//Tecno-Spark-Infinity-Ex...  \n",
            "13  https://www.amazon.in//OnePlus-Nord-Jade-256GB...  \n",
            "14  https://www.amazon.in//Samsung-Galaxy-Storage-...  \n",
            "15  https://www.amazon.in//Redmi-Power-Sporty-Oran...  \n"
          ]
        }
      ],
      "source": [
        "import requests as req\n",
        "import random \n",
        "from bs4 import BeautifulSoup\n",
        "import pandas as pd\n",
        "\n",
        "User_Agents={\n",
        "    \"User_Agent\":\"Mozilla/5.0 (Windows NT 10.0; Win64; x64; rv:108.0) Gecko/20100101 Firefox/108.0\"\n",
        "}\n",
        "\n",
        "def product_details(search):\n",
        "  search =search.replace (\" \",\"+\")\n",
        "  url=f\"https://www.amazon.in/s?k={search}\"\n",
        "  response=req.get (url,headers=User_Agents)#from which browser and website fetching data \n",
        "  Content=BeautifulSoup(response.content,\"lxml\")#to access html data and convert into readable form\n",
        "\n",
        "  item_detail=[]\n",
        "\n",
        "  for item in Content.select('.s-result-item.s-asin.sg-col-0-of-12 '):\n",
        "    Product_Name = item.select_one('.a-size-mini.a-spacing-none.a-color-base.s-line-clamp-2').text.strip()\n",
        "    \n",
        "    try: \n",
        "      Price=item.select_one('span.a-price-whole').text\n",
        "    except: \n",
        "      Price=item.select_one('span.a-price-whole')\n",
        "    \n",
        "    try: \n",
        "      Rating=item.select_one('span.a-size-base').text.replace(\"(\",\"\").replace(\")\",\"\")\n",
        "    except: \n",
        "      Rating=item.select_one('span.a-size-base')\n",
        "    \n",
        "\n",
        "    try:\n",
        "      Number_of_People_Rated=item.select_one('span.a-size-base.s-underline-text').text\n",
        "    except:\n",
        "      Number_of_People_Rated=item.select_one('span.a-size-base.s-underline-text')\n",
        "    \n",
        "    data = {\n",
        "        \"Product Name\": item.select_one('.a-size-mini.a-spacing-none.a-color-base.s-line-clamp-2').text.strip(),\n",
        "        \"Price\":Price,\n",
        "        \"Rating\":Rating,\n",
        "        \"People Rated\":Number_of_People_Rated,\n",
        "        \"Product Image\":item.select_one('img.s-image')[\"src\"],\n",
        "        \"Product link\":\"https://www.amazon.in/\"+ item.select_one(\"a.a-link-normal\")[\"href\"],\n",
        "    }\n",
        "    item_detail.append(data)\n",
        "  dataframe = pd.DataFrame(item_detail)\n",
        "  return dataframe\n",
        "df=product_details('mobile')\n",
        "print(df)\n"
      ]
    },
    {
      "cell_type": "code",
      "execution_count": null,
      "metadata": {
        "id": "nEdsJcQYVn44"
      },
      "outputs": [],
      "source": []
    }
  ],
  "metadata": {
    "colab": {
      "provenance": []
    },
    "kernelspec": {
      "display_name": "Python 3",
      "name": "python3"
    },
    "language_info": {
      "name": "python"
    }
  },
  "nbformat": 4,
  "nbformat_minor": 0
}